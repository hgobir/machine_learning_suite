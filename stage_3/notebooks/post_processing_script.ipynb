{
 "cells": [
  {
   "cell_type": "code",
   "execution_count": 2,
   "metadata": {
    "collapsed": true
   },
   "outputs": [],
   "source": [
    "import requests\n",
    "from requests import Request, Session\n",
    "from requests.exceptions import ConnectionError, Timeout, TooManyRedirects\n",
    "import json\n",
    "import pandas as pd\n",
    "import numpy as np\n",
    "import datetime\n",
    "import matplotlib.pyplot as plt"
   ]
  },
  {
   "cell_type": "code",
   "execution_count": 3,
   "outputs": [],
   "source": [
    "url = 'https://rest.coinapi.io/v1/ohlcv/BITSTAMP_SPOT_BTC_USD/history?period_id=1DAY&time_start=2022-10-05T00:00:00&limit=1'\n",
    "\n",
    "headers = {\n",
    "#   'Accepts': 'application/json',\n",
    "  'X-CoinAPI-Key': 'AE75B183-3C7D-4DD5-81D6-67CD8386395F'\n",
    "}\n",
    "\n",
    "response = requests.get(url, headers=headers)"
   ],
   "metadata": {
    "collapsed": false
   }
  },
  {
   "cell_type": "code",
   "execution_count": 4,
   "outputs": [
    {
     "name": "stdout",
     "output_type": "stream",
     "text": [
      "<Response [200]>\n"
     ]
    }
   ],
   "source": [
    "print(response)"
   ],
   "metadata": {
    "collapsed": false
   }
  },
  {
   "cell_type": "code",
   "execution_count": 5,
   "outputs": [
    {
     "name": "stdout",
     "output_type": "stream",
     "text": [
      "[{'time_period_start': '2022-10-05T00:00:00.0000000Z', 'time_period_end': '2022-10-06T00:00:00.0000000Z', 'time_open': '2022-10-05T00:00:04.4820000Z', 'time_close': '2022-10-05T23:59:56.4130000Z', 'price_open': 20343.0, 'price_high': 20366.0, 'price_low': 19735.0, 'price_close': 20162.0, 'volume_traded': 1784.30926355, 'trades_count': 12663}]\n"
     ]
    }
   ],
   "source": [
    "data = json.loads(response.text)\n",
    "print(data)"
   ],
   "metadata": {
    "collapsed": false
   }
  },
  {
   "cell_type": "code",
   "execution_count": 6,
   "outputs": [
    {
     "data": {
      "text/plain": "              time_period_start               time_period_end  \\\n0  2022-10-05T00:00:00.0000000Z  2022-10-06T00:00:00.0000000Z   \n\n                      time_open                    time_close  price_open  \\\n0  2022-10-05T00:00:04.4820000Z  2022-10-05T23:59:56.4130000Z     20343.0   \n\n   price_high  price_low  price_close  volume_traded  trades_count  \n0     20366.0    19735.0      20162.0    1784.309264         12663  ",
      "text/html": "<div>\n<style scoped>\n    .dataframe tbody tr th:only-of-type {\n        vertical-align: middle;\n    }\n\n    .dataframe tbody tr th {\n        vertical-align: top;\n    }\n\n    .dataframe thead th {\n        text-align: right;\n    }\n</style>\n<table border=\"1\" class=\"dataframe\">\n  <thead>\n    <tr style=\"text-align: right;\">\n      <th></th>\n      <th>time_period_start</th>\n      <th>time_period_end</th>\n      <th>time_open</th>\n      <th>time_close</th>\n      <th>price_open</th>\n      <th>price_high</th>\n      <th>price_low</th>\n      <th>price_close</th>\n      <th>volume_traded</th>\n      <th>trades_count</th>\n    </tr>\n  </thead>\n  <tbody>\n    <tr>\n      <th>0</th>\n      <td>2022-10-05T00:00:00.0000000Z</td>\n      <td>2022-10-06T00:00:00.0000000Z</td>\n      <td>2022-10-05T00:00:04.4820000Z</td>\n      <td>2022-10-05T23:59:56.4130000Z</td>\n      <td>20343.0</td>\n      <td>20366.0</td>\n      <td>19735.0</td>\n      <td>20162.0</td>\n      <td>1784.309264</td>\n      <td>12663</td>\n    </tr>\n  </tbody>\n</table>\n</div>"
     },
     "execution_count": 6,
     "metadata": {},
     "output_type": "execute_result"
    }
   ],
   "source": [
    "df_json = response.json()\n",
    "df_btc_price = pd.DataFrame.from_dict(df_json)\n",
    "df_btc_price"
   ],
   "metadata": {
    "collapsed": false
   }
  },
  {
   "cell_type": "code",
   "execution_count": 9,
   "outputs": [],
   "source": [
    "actual_price_btc_20221005 = df_btc_price['price_close'].values[0]"
   ],
   "metadata": {
    "collapsed": false
   }
  },
  {
   "cell_type": "code",
   "execution_count": 10,
   "outputs": [],
   "source": [
    "btc_predictions = pd.read_csv('C:/Users/Hamza/PycharmProjects/dissertation_project/stage_3/predictions/btc_7_day_model_prediction.csv')"
   ],
   "metadata": {
    "collapsed": false
   }
  },
  {
   "cell_type": "code",
   "execution_count": 11,
   "outputs": [
    {
     "data": {
      "text/plain": "         date  predicted_price_close\n0  2022-10-05           19461.552867\n1  2022-10-06           19439.160262\n2  2022-10-07           19450.406960\n3  2022-10-08           19110.117832\n4  2022-10-09           18972.622235\n5  2022-10-10           19591.748519\n6  2022-10-11           20328.575473",
      "text/html": "<div>\n<style scoped>\n    .dataframe tbody tr th:only-of-type {\n        vertical-align: middle;\n    }\n\n    .dataframe tbody tr th {\n        vertical-align: top;\n    }\n\n    .dataframe thead th {\n        text-align: right;\n    }\n</style>\n<table border=\"1\" class=\"dataframe\">\n  <thead>\n    <tr style=\"text-align: right;\">\n      <th></th>\n      <th>date</th>\n      <th>predicted_price_close</th>\n    </tr>\n  </thead>\n  <tbody>\n    <tr>\n      <th>0</th>\n      <td>2022-10-05</td>\n      <td>19461.552867</td>\n    </tr>\n    <tr>\n      <th>1</th>\n      <td>2022-10-06</td>\n      <td>19439.160262</td>\n    </tr>\n    <tr>\n      <th>2</th>\n      <td>2022-10-07</td>\n      <td>19450.406960</td>\n    </tr>\n    <tr>\n      <th>3</th>\n      <td>2022-10-08</td>\n      <td>19110.117832</td>\n    </tr>\n    <tr>\n      <th>4</th>\n      <td>2022-10-09</td>\n      <td>18972.622235</td>\n    </tr>\n    <tr>\n      <th>5</th>\n      <td>2022-10-10</td>\n      <td>19591.748519</td>\n    </tr>\n    <tr>\n      <th>6</th>\n      <td>2022-10-11</td>\n      <td>20328.575473</td>\n    </tr>\n  </tbody>\n</table>\n</div>"
     },
     "execution_count": 11,
     "metadata": {},
     "output_type": "execute_result"
    }
   ],
   "source": [
    "btc_predictions"
   ],
   "metadata": {
    "collapsed": false
   }
  },
  {
   "cell_type": "code",
   "execution_count": 12,
   "outputs": [],
   "source": [
    "dates = ['2022-10-05', '2022-10-06', '2022-10-07', '2022-10-08', '2022-10-09', '2022-10-10', '2022-10-11']\n",
    "actual_prices = []\n"
   ],
   "metadata": {
    "collapsed": false
   }
  },
  {
   "cell_type": "code",
   "execution_count": 13,
   "outputs": [
    {
     "data": {
      "text/plain": "20162.0"
     },
     "execution_count": 13,
     "metadata": {},
     "output_type": "execute_result"
    }
   ],
   "source": [
    "actual_price_btc_20221005"
   ],
   "metadata": {
    "collapsed": false
   }
  },
  {
   "cell_type": "code",
   "execution_count": 14,
   "outputs": [],
   "source": [
    "new_list = []"
   ],
   "metadata": {
    "collapsed": false
   }
  },
  {
   "cell_type": "code",
   "execution_count": 15,
   "outputs": [
    {
     "name": "stdout",
     "output_type": "stream",
     "text": [
      "for 2022-10-05 this is the value returned\n",
      "\n",
      "\n",
      "[{'time_period_start': '2022-10-05T00:00:00.0000000Z', 'time_period_end': '2022-10-06T00:00:00.0000000Z', 'time_open': '2022-10-05T00:00:04.4820000Z', 'time_close': '2022-10-05T23:59:56.4130000Z', 'price_open': 20343.0, 'price_high': 20366.0, 'price_low': 19735.0, 'price_close': 20162.0, 'volume_traded': 1784.30926355, 'trades_count': 12663}]\n",
      "\n",
      "\n",
      "for 2022-10-06 this is the value returned\n",
      "\n",
      "\n",
      "[{'time_period_start': '2022-10-06T00:00:00.0000000Z', 'time_period_end': '2022-10-07T00:00:00.0000000Z', 'time_open': '2022-10-06T00:00:15.0650000Z', 'time_close': '2022-10-06T23:58:16.7800000Z', 'price_open': 20161.0, 'price_high': 20447.0, 'price_low': 19864.0, 'price_close': 19951.0, 'volume_traded': 1436.7279218, 'trades_count': 11755}]\n",
      "\n",
      "\n",
      "for 2022-10-07 this is the value returned\n",
      "\n",
      "\n",
      "[{'time_period_start': '2022-10-07T00:00:00.0000000Z', 'time_period_end': '2022-10-08T00:00:00.0000000Z', 'time_open': '2022-10-07T00:00:00.8450000Z', 'time_close': '2022-10-07T23:59:50.1470000Z', 'price_open': 19960.0, 'price_high': 20056.0, 'price_low': 19335.0, 'price_close': 19532.0, 'volume_traded': 1290.58016407, 'trades_count': 11295}]\n",
      "\n",
      "\n",
      "for 2022-10-08 this is the value returned\n",
      "\n",
      "\n",
      "[{'time_period_start': '2022-10-08T00:00:00.0000000Z', 'time_period_end': '2022-10-09T00:00:00.0000000Z', 'time_open': '2022-10-08T00:00:02.9760000Z', 'time_close': '2022-10-08T23:59:53.4160000Z', 'price_open': 19533.0, 'price_high': 19624.0, 'price_low': 19259.0, 'price_close': 19420.0, 'volume_traded': 517.31876324, 'trades_count': 7414}]\n",
      "\n",
      "\n",
      "for 2022-10-09 this is the value returned\n",
      "\n",
      "\n",
      "[{'time_period_start': '2022-10-09T00:00:00.0000000Z', 'time_period_end': '2022-10-10T00:00:00.0000000Z', 'time_open': '2022-10-09T00:00:00.3300000Z', 'time_close': '2022-10-09T23:59:53.6390000Z', 'price_open': 19421.0, 'price_high': 19604.0, 'price_low': 19324.0, 'price_close': 19445.0, 'volume_traded': 707.27451611, 'trades_count': 7878}]\n",
      "\n",
      "\n",
      "for 2022-10-10 this is the value returned\n",
      "\n",
      "\n",
      "[{'time_period_start': '2022-10-10T00:00:00.0000000Z', 'time_period_end': '2022-10-11T00:00:00.0000000Z', 'time_open': '2022-10-10T00:00:24.9310000Z', 'time_close': '2022-10-10T23:59:15.6380000Z', 'price_open': 19436.0, 'price_high': 19525.0, 'price_low': 19029.0, 'price_close': 19131.0, 'volume_traded': 1048.59294505, 'trades_count': 9191}]\n",
      "\n",
      "\n",
      "for 2022-10-11 this is the value returned\n",
      "\n",
      "\n",
      "[{'time_period_start': '2022-10-11T00:00:00.0000000Z', 'time_period_end': '2022-10-12T00:00:00.0000000Z', 'time_open': '2022-10-11T00:00:00.9880000Z', 'time_close': '2022-10-11T23:59:37.9450000Z', 'price_open': 19131.0, 'price_high': 19265.0, 'price_low': 18853.0, 'price_close': 19059.0, 'volume_traded': 1332.9061436, 'trades_count': 9911}]\n",
      "\n",
      "\n"
     ]
    }
   ],
   "source": [
    "for date in dates:\n",
    "  url = f'https://rest.coinapi.io/v1/ohlcv/BITSTAMP_SPOT_BTC_USD/history?period_id=1DAY&time_start={date}T00:00:00&limit=1'\n",
    "  response = requests.get(url, headers=headers)\n",
    "  data = json.loads(response.text)\n",
    "  print(f'for {date} this is the value returned')\n",
    "  print(\"\\n\")\n",
    "  print(data)\n",
    "  print(\"\\n\")\n",
    "\n",
    "  df_json = response.json()\n",
    "  df = pd.DataFrame.from_dict(df_json)\n",
    "\n",
    "  actual_price_btc = df['price_close'].values[0]\n",
    "\n",
    "  new_list.append(actual_price_btc)\n",
    "\n"
   ],
   "metadata": {
    "collapsed": false
   }
  },
  {
   "cell_type": "code",
   "execution_count": 16,
   "outputs": [
    {
     "data": {
      "text/plain": "[20162.0, 19951.0, 19532.0, 19420.0, 19445.0, 19131.0, 19059.0]"
     },
     "execution_count": 16,
     "metadata": {},
     "output_type": "execute_result"
    }
   ],
   "source": [
    "new_list"
   ],
   "metadata": {
    "collapsed": false
   }
  },
  {
   "cell_type": "code",
   "execution_count": 17,
   "outputs": [
    {
     "data": {
      "text/plain": "         date  predicted_price_close\n0  2022-10-05           19461.552867\n1  2022-10-06           19439.160262\n2  2022-10-07           19450.406960\n3  2022-10-08           19110.117832\n4  2022-10-09           18972.622235\n5  2022-10-10           19591.748519\n6  2022-10-11           20328.575473",
      "text/html": "<div>\n<style scoped>\n    .dataframe tbody tr th:only-of-type {\n        vertical-align: middle;\n    }\n\n    .dataframe tbody tr th {\n        vertical-align: top;\n    }\n\n    .dataframe thead th {\n        text-align: right;\n    }\n</style>\n<table border=\"1\" class=\"dataframe\">\n  <thead>\n    <tr style=\"text-align: right;\">\n      <th></th>\n      <th>date</th>\n      <th>predicted_price_close</th>\n    </tr>\n  </thead>\n  <tbody>\n    <tr>\n      <th>0</th>\n      <td>2022-10-05</td>\n      <td>19461.552867</td>\n    </tr>\n    <tr>\n      <th>1</th>\n      <td>2022-10-06</td>\n      <td>19439.160262</td>\n    </tr>\n    <tr>\n      <th>2</th>\n      <td>2022-10-07</td>\n      <td>19450.406960</td>\n    </tr>\n    <tr>\n      <th>3</th>\n      <td>2022-10-08</td>\n      <td>19110.117832</td>\n    </tr>\n    <tr>\n      <th>4</th>\n      <td>2022-10-09</td>\n      <td>18972.622235</td>\n    </tr>\n    <tr>\n      <th>5</th>\n      <td>2022-10-10</td>\n      <td>19591.748519</td>\n    </tr>\n    <tr>\n      <th>6</th>\n      <td>2022-10-11</td>\n      <td>20328.575473</td>\n    </tr>\n  </tbody>\n</table>\n</div>"
     },
     "execution_count": 17,
     "metadata": {},
     "output_type": "execute_result"
    }
   ],
   "source": [
    "btc_predictions"
   ],
   "metadata": {
    "collapsed": false
   }
  },
  {
   "cell_type": "code",
   "execution_count": 18,
   "outputs": [],
   "source": [
    "btc_predictions['actual_price_close'] = new_list"
   ],
   "metadata": {
    "collapsed": false
   }
  },
  {
   "cell_type": "code",
   "execution_count": 19,
   "outputs": [
    {
     "data": {
      "text/plain": "         date  predicted_price_close  actual_price_close\n0  2022-10-05           19461.552867             20162.0\n1  2022-10-06           19439.160262             19951.0\n2  2022-10-07           19450.406960             19532.0\n3  2022-10-08           19110.117832             19420.0\n4  2022-10-09           18972.622235             19445.0\n5  2022-10-10           19591.748519             19131.0\n6  2022-10-11           20328.575473             19059.0",
      "text/html": "<div>\n<style scoped>\n    .dataframe tbody tr th:only-of-type {\n        vertical-align: middle;\n    }\n\n    .dataframe tbody tr th {\n        vertical-align: top;\n    }\n\n    .dataframe thead th {\n        text-align: right;\n    }\n</style>\n<table border=\"1\" class=\"dataframe\">\n  <thead>\n    <tr style=\"text-align: right;\">\n      <th></th>\n      <th>date</th>\n      <th>predicted_price_close</th>\n      <th>actual_price_close</th>\n    </tr>\n  </thead>\n  <tbody>\n    <tr>\n      <th>0</th>\n      <td>2022-10-05</td>\n      <td>19461.552867</td>\n      <td>20162.0</td>\n    </tr>\n    <tr>\n      <th>1</th>\n      <td>2022-10-06</td>\n      <td>19439.160262</td>\n      <td>19951.0</td>\n    </tr>\n    <tr>\n      <th>2</th>\n      <td>2022-10-07</td>\n      <td>19450.406960</td>\n      <td>19532.0</td>\n    </tr>\n    <tr>\n      <th>3</th>\n      <td>2022-10-08</td>\n      <td>19110.117832</td>\n      <td>19420.0</td>\n    </tr>\n    <tr>\n      <th>4</th>\n      <td>2022-10-09</td>\n      <td>18972.622235</td>\n      <td>19445.0</td>\n    </tr>\n    <tr>\n      <th>5</th>\n      <td>2022-10-10</td>\n      <td>19591.748519</td>\n      <td>19131.0</td>\n    </tr>\n    <tr>\n      <th>6</th>\n      <td>2022-10-11</td>\n      <td>20328.575473</td>\n      <td>19059.0</td>\n    </tr>\n  </tbody>\n</table>\n</div>"
     },
     "execution_count": 19,
     "metadata": {},
     "output_type": "execute_result"
    }
   ],
   "source": [
    "btc_predictions"
   ],
   "metadata": {
    "collapsed": false
   }
  },
  {
   "cell_type": "code",
   "execution_count": 20,
   "outputs": [],
   "source": [
    "btc_predictions.to_csv(f'C:/Users/Hamza/PycharmProjects/dissertation_project/data/stage_3/btc/btc_7_day_actual.csv', encoding='utf-8', index=False)\n"
   ],
   "metadata": {
    "collapsed": false
   }
  },
  {
   "cell_type": "code",
   "execution_count": 21,
   "outputs": [],
   "source": [
    "estimated_value = btc_predictions['predicted_price_close'].values[0]\n",
    "\n",
    "actual_value = btc_predictions['actual_price_close'].values[0]\n"
   ],
   "metadata": {
    "collapsed": false
   }
  },
  {
   "cell_type": "code",
   "execution_count": 22,
   "outputs": [
    {
     "name": "stdout",
     "output_type": "stream",
     "text": [
      "estimated value is 19461.55286700554 and actual value is 20162.0\n"
     ]
    }
   ],
   "source": [
    "print(f'estimated value is {estimated_value} and actual value is {actual_value}')"
   ],
   "metadata": {
    "collapsed": false
   }
  },
  {
   "cell_type": "code",
   "execution_count": 23,
   "outputs": [],
   "source": [
    "percent_error = ((estimated_value - actual_value) / actual_value) * 100"
   ],
   "metadata": {
    "collapsed": false
   }
  },
  {
   "cell_type": "code",
   "execution_count": 24,
   "outputs": [
    {
     "data": {
      "text/plain": "-3.4740954914912257"
     },
     "execution_count": 24,
     "metadata": {},
     "output_type": "execute_result"
    }
   ],
   "source": [
    "percent_error"
   ],
   "metadata": {
    "collapsed": false
   }
  },
  {
   "cell_type": "code",
   "execution_count": 25,
   "outputs": [],
   "source": [
    "count = len(btc_predictions)"
   ],
   "metadata": {
    "collapsed": false
   }
  },
  {
   "cell_type": "code",
   "execution_count": 26,
   "outputs": [
    {
     "data": {
      "text/plain": "7"
     },
     "execution_count": 26,
     "metadata": {},
     "output_type": "execute_result"
    }
   ],
   "source": [
    "count"
   ],
   "metadata": {
    "collapsed": false
   }
  },
  {
   "cell_type": "code",
   "execution_count": 27,
   "outputs": [],
   "source": [
    "percent_error_list = []"
   ],
   "metadata": {
    "collapsed": false
   }
  },
  {
   "cell_type": "code",
   "execution_count": 28,
   "outputs": [
    {
     "name": "stdout",
     "output_type": "stream",
     "text": [
      "\n",
      "\n",
      "for 2022-10-05 the estimated value is 19461.55286700554 and actual value is 20162.0\n",
      "\n",
      "error between predicted and actual is -3.4740954914912257%\n",
      "\n",
      "\n",
      "for 2022-10-06 the estimated value is 19439.160261560977 and actual value is 19951.0\n",
      "\n",
      "error between predicted and actual is -2.565484128309472%\n",
      "\n",
      "\n",
      "for 2022-10-07 the estimated value is 19450.40696025535 and actual value is 19532.0\n",
      "\n",
      "error between predicted and actual is -0.41774032226423313%\n",
      "\n",
      "\n",
      "for 2022-10-08 the estimated value is 19110.117832471205 and actual value is 19420.0\n",
      "\n",
      "error between predicted and actual is -1.59568572362922%\n",
      "\n",
      "\n",
      "for 2022-10-09 the estimated value is 18972.622235011957 and actual value is 19445.0\n",
      "\n",
      "error between predicted and actual is -2.429301954168388%\n",
      "\n",
      "\n",
      "for 2022-10-10 the estimated value is 19591.748518858592 and actual value is 19131.0\n",
      "\n",
      "error between predicted and actual is 2.408387009871896%\n",
      "\n",
      "\n",
      "for 2022-10-11 the estimated value is 20328.575473463174 and actual value is 19059.0\n",
      "\n",
      "error between predicted and actual is 6.661291114240902%\n"
     ]
    }
   ],
   "source": [
    "for i in range(0, count):\n",
    "  print(\"\")\n",
    "  date = btc_predictions['date'].values[i]\n",
    "  estimated_value = btc_predictions['predicted_price_close'].values[i]\n",
    "  actual_value = btc_predictions['actual_price_close'].values[i]\n",
    "  print(\"\")\n",
    "  print(f'for {date} the estimated value is {estimated_value} and actual value is {actual_value}')\n",
    "  print(\"\")\n",
    "  percent_error = ((estimated_value - actual_value) / actual_value) * 100\n",
    "  print(f'error between predicted and actual is {percent_error}%')\n",
    "  percent_error_list.append(percent_error)\n"
   ],
   "metadata": {
    "collapsed": false
   }
  },
  {
   "cell_type": "code",
   "execution_count": 29,
   "outputs": [
    {
     "data": {
      "text/plain": "[-3.4740954914912257,\n -2.565484128309472,\n -0.41774032226423313,\n -1.59568572362922,\n -2.429301954168388,\n 2.408387009871896,\n 6.661291114240902]"
     },
     "execution_count": 29,
     "metadata": {},
     "output_type": "execute_result"
    }
   ],
   "source": [
    "percent_error_list"
   ],
   "metadata": {
    "collapsed": false
   }
  },
  {
   "cell_type": "code",
   "execution_count": 30,
   "outputs": [],
   "source": [
    "btc_predictions['percent_error'] = percent_error_list\n"
   ],
   "metadata": {
    "collapsed": false
   }
  },
  {
   "cell_type": "code",
   "execution_count": 31,
   "outputs": [
    {
     "data": {
      "text/plain": "         date  predicted_price_close  actual_price_close  percent_error\n0  2022-10-05           19461.552867             20162.0      -3.474095\n1  2022-10-06           19439.160262             19951.0      -2.565484\n2  2022-10-07           19450.406960             19532.0      -0.417740\n3  2022-10-08           19110.117832             19420.0      -1.595686\n4  2022-10-09           18972.622235             19445.0      -2.429302\n5  2022-10-10           19591.748519             19131.0       2.408387\n6  2022-10-11           20328.575473             19059.0       6.661291",
      "text/html": "<div>\n<style scoped>\n    .dataframe tbody tr th:only-of-type {\n        vertical-align: middle;\n    }\n\n    .dataframe tbody tr th {\n        vertical-align: top;\n    }\n\n    .dataframe thead th {\n        text-align: right;\n    }\n</style>\n<table border=\"1\" class=\"dataframe\">\n  <thead>\n    <tr style=\"text-align: right;\">\n      <th></th>\n      <th>date</th>\n      <th>predicted_price_close</th>\n      <th>actual_price_close</th>\n      <th>percent_error</th>\n    </tr>\n  </thead>\n  <tbody>\n    <tr>\n      <th>0</th>\n      <td>2022-10-05</td>\n      <td>19461.552867</td>\n      <td>20162.0</td>\n      <td>-3.474095</td>\n    </tr>\n    <tr>\n      <th>1</th>\n      <td>2022-10-06</td>\n      <td>19439.160262</td>\n      <td>19951.0</td>\n      <td>-2.565484</td>\n    </tr>\n    <tr>\n      <th>2</th>\n      <td>2022-10-07</td>\n      <td>19450.406960</td>\n      <td>19532.0</td>\n      <td>-0.417740</td>\n    </tr>\n    <tr>\n      <th>3</th>\n      <td>2022-10-08</td>\n      <td>19110.117832</td>\n      <td>19420.0</td>\n      <td>-1.595686</td>\n    </tr>\n    <tr>\n      <th>4</th>\n      <td>2022-10-09</td>\n      <td>18972.622235</td>\n      <td>19445.0</td>\n      <td>-2.429302</td>\n    </tr>\n    <tr>\n      <th>5</th>\n      <td>2022-10-10</td>\n      <td>19591.748519</td>\n      <td>19131.0</td>\n      <td>2.408387</td>\n    </tr>\n    <tr>\n      <th>6</th>\n      <td>2022-10-11</td>\n      <td>20328.575473</td>\n      <td>19059.0</td>\n      <td>6.661291</td>\n    </tr>\n  </tbody>\n</table>\n</div>"
     },
     "execution_count": 31,
     "metadata": {},
     "output_type": "execute_result"
    }
   ],
   "source": [
    "btc_predictions"
   ],
   "metadata": {
    "collapsed": false
   }
  },
  {
   "cell_type": "code",
   "execution_count": 32,
   "outputs": [],
   "source": [
    "btc_predictions.to_csv(f'C:/Users/Hamza/PycharmProjects/dissertation_project/data/stage_3/btc/btc_percent_error.csv', encoding='utf-8', index=False)\n"
   ],
   "metadata": {
    "collapsed": false
   }
  },
  {
   "cell_type": "code",
   "execution_count": 33,
   "outputs": [
    {
     "data": {
      "text/plain": "<Figure size 640x480 with 1 Axes>",
      "image/png": "[encoded data removed]"
     },
     "metadata": {},
     "output_type": "display_data"
    }
   ],
   "source": [
    "plt.plot(dates, percent_error_list, label = \"percent error\")\n",
    "plt.legend()\n",
    "plt.title(f\"btc percentage error comparing predicted values to actual values\")\n",
    "plt.xticks(fontsize=5)\n",
    "plt.xlabel('days')\n",
    "plt.ylabel('percent (%)')\n",
    "plt.savefig(f'C:/Users/Hamza/PycharmProjects/dissertation_project/data/stage_3/btc/percent_error_line.png')\n",
    "plt.show()"
   ],
   "metadata": {
    "collapsed": false
   }
  },
  {
   "cell_type": "code",
   "execution_count": 34,
   "outputs": [],
   "source": [
    "prediction_list = btc_predictions['predicted_price_close'].values"
   ],
   "metadata": {
    "collapsed": false
   }
  },
  {
   "cell_type": "code",
   "execution_count": 35,
   "outputs": [
    {
     "data": {
      "text/plain": "array([19461.55286701, 19439.16026156, 19450.40696026, 19110.11783247,\n       18972.62223501, 19591.74851886, 20328.57547346])"
     },
     "execution_count": 35,
     "metadata": {},
     "output_type": "execute_result"
    }
   ],
   "source": [
    "prediction_list"
   ],
   "metadata": {
    "collapsed": false
   }
  },
  {
   "cell_type": "code",
   "execution_count": 36,
   "outputs": [],
   "source": [
    "actual_list = btc_predictions['actual_price_close'].values\n"
   ],
   "metadata": {
    "collapsed": false
   }
  },
  {
   "cell_type": "code",
   "execution_count": 37,
   "outputs": [
    {
     "data": {
      "text/plain": "array([20162., 19951., 19532., 19420., 19445., 19131., 19059.])"
     },
     "execution_count": 37,
     "metadata": {},
     "output_type": "execute_result"
    }
   ],
   "source": [
    "actual_list"
   ],
   "metadata": {
    "collapsed": false
   }
  },
  {
   "cell_type": "code",
   "execution_count": 38,
   "outputs": [
    {
     "data": {
      "text/plain": "<Figure size 640x480 with 1 Axes>",
      "image/png": "[encoded data removed]"
     },
     "metadata": {},
     "output_type": "display_data"
    }
   ],
   "source": [
    "\n",
    "plt.plot(dates, prediction_list, label = \"predicted values\")\n",
    "plt.plot(dates, actual_list, label = \"actual values\")\n",
    "\n",
    "plt.legend()\n",
    "plt.title(f\"btc predicted values and actual values line\")\n",
    "plt.xticks(fontsize=7)\n",
    "plt.xlabel('days')\n",
    "plt.ylabel('dollars ($)')\n",
    "plt.savefig(f'C:/Users/Hamza/PycharmProjects/dissertation_project/data/stage_3/btc/predicted_vs_actual.png')\n",
    "plt.show()\n"
   ],
   "metadata": {
    "collapsed": false
   }
  },
  {
   "cell_type": "code",
   "execution_count": null,
   "outputs": [],
   "source": [],
   "metadata": {
    "collapsed": false
   }
  }
 ],
 "metadata": {
  "kernelspec": {
   "display_name": "Python 3",
   "language": "python",
   "name": "python3"
  },
  "language_info": {
   "codemirror_mode": {
    "name": "ipython",
    "version": 2
   },
   "file_extension": ".py",
   "mimetype": "text/x-python",
   "name": "python",
   "nbconvert_exporter": "python",
   "pygments_lexer": "ipython2",
   "version": "2.7.6"
  }
 },
 "nbformat": 4,
 "nbformat_minor": 0
}
